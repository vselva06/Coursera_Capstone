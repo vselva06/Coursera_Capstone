{
    "cells": [
        {
            "cell_type": "markdown",
            "metadata": {
                "collapsed": true
            },
            "source": "## Capstone Project Week 4 Report "
        },
        {
            "cell_type": "markdown",
            "metadata": {},
            "source": "### Introduction & Business Problem"
        },
        {
            "cell_type": "markdown",
            "metadata": {},
            "source": "The city of Toronto is one of the most iconic and populated cities in the world. Downtown Toronto is a prime location for both tourists and locals to take full advantage of the countless amenities the city has to offer. The diversity in Toronto is evident through the distinctive restaurants and local businesses that can be seen throughout the city. With numerous amenities located within close proximities from one another, downtown Toronto is often an attractive location for people to live in. University of Toronto (UofT) St. George located in Downtown Toronto, is one of the top universities in the world. Due to its notoriety and facilities, UofT is home to many international students. However, because Toronto is a prime  location for many to reside in, the cost of living is extremely high, especially for students. It often becomes  extremely difficult for students to find affordable housing near their University with basic amenities. Therefore, the target audience for this project will be university students attending UofT. The analysis conducted in this project will help students grasp the best areas in which they can find affordable housing for themselves. \n \nWe at ABC company are realtors that strive to help our clients find housing that fit their needs at an affordable cost. Our clients are 2 students from Australia seeking housing (2 bedroom) within 2km distance from UofT. The maximum budget in total among the three students is $ 6000 per month (or $ 3000 per student per month). The ideal spot must also be located within close distance to amentities such as resturants. "
        },
        {
            "cell_type": "markdown",
            "metadata": {},
            "source": "### Data "
        },
        {
            "cell_type": "markdown",
            "metadata": {},
            "source": "Data pertaining to the different neighbourhoods in downtown Toronto will be used. The following links will be used to extract the downtown neighbourhoods,\nand their geo spatial data (similar to Week 3): \nhttps://en.wikipedia.org/wiki/List_of_postal_codes_of_Canada:_M \n\nhttps://cocl.us/Geospatial_data\n\nData regarding the different rental properties in downtown Toronto will also be used. To obtain this data, different rental sites will be used to\ngather information on current 3 bedroom properties. The information will then be compiled into an excel file which stores basic information such as \nthe address, postal code and price of the listing for the 2 bedroom appartments. Current listings can be found through the links below: \n https://realestate.mitula.ca/searchRE/sort-0/rooms_min-2/q-for-rent-apartments-university-toronto-st-george \n https://www.torontorentals.com/off-campus-housing/u-of-t-university-of-toronto-downtown?beds=2%2B&rent-max=4000&rent-min=0&active-listing-id=69611\n https://www.point2homes.com/CA/2-Bedroom-Apartments-For-Rent/ON/Toronto/Downtown-Toronto/University.html?location=university+of+toronto&search_mode=location&Bedrooms=2&page=1&SelectedView=listings&LocationGeoId=783094&location_changed=&ajax=1 \n    \nUsing the collected data, we will able to determine the different neighbourhoods located in downtown Toronto, and visually depict the ones close to University of Toronto St. George campus. From there we will then be able to find information on potential listings in those neighbourhoods after we pinpoint the ones that are close to the university. Afterwards, Fourquare API will then be used to identify which listings/neighbourhoods are closest to a cluster of amenities such as resturants, as per our clients' specifications. Through data scraping and analysis techniques, we will be able to provide our clients with the necessary information needed to make an informed decision on the best listing for them. "
        },
        {
            "cell_type": "code",
            "execution_count": null,
            "metadata": {},
            "outputs": [],
            "source": ""
        }
    ],
    "metadata": {
        "kernelspec": {
            "display_name": "Python 3.6",
            "language": "python",
            "name": "python3"
        },
        "language_info": {
            "codemirror_mode": {
                "name": "ipython",
                "version": 3
            },
            "file_extension": ".py",
            "mimetype": "text/x-python",
            "name": "python",
            "nbconvert_exporter": "python",
            "pygments_lexer": "ipython3",
            "version": "3.6.8"
        }
    },
    "nbformat": 4,
    "nbformat_minor": 1
}